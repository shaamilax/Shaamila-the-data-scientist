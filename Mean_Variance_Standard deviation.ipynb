{
 "cells": [
  {
   "cell_type": "code",
   "execution_count": 2,
   "id": "e9537c57-4b41-4d3c-a087-84b4c7bef488",
   "metadata": {},
   "outputs": [
    {
     "data": {
      "text/plain": [
       "{'mean': [[3.6666666666666665, 5.0, 3.0],\n",
       "  [3.3333333333333335, 4.0, 4.333333333333333],\n",
       "  3.888888888888889],\n",
       " 'variance': [[9.555555555555557, 0.6666666666666666, 8.666666666666666],\n",
       "  [3.555555555555556, 10.666666666666666, 6.222222222222221],\n",
       "  6.987654320987654],\n",
       " 'standard deviation': [[3.091206165165235,\n",
       "   0.816496580927726,\n",
       "   2.943920288775949],\n",
       "  [1.8856180831641267, 3.265986323710904, 2.494438257849294],\n",
       "  2.6434171674156266],\n",
       " 'maximum': [[8, 6, 7], [6, 8, 7], 8],\n",
       " 'Minimum': [[1, 4, 0], [2, 0, 1], 0],\n",
       " 'Sum': [[11, 15, 9], [10, 12, 13], 35]}"
      ]
     },
     "execution_count": 2,
     "metadata": {},
     "output_type": "execute_result"
    }
   ],
   "source": [
    "import numpy as np\n",
    " \n",
    "def calculate(list):\n",
    "    calculations = {}\n",
    "    n = np.array(list)\n",
    "    y =np.reshape(n, (3,3))\n",
    "    cal =np.mean(y, axis=0)\n",
    "    cal_1= np.mean(y, axis=1)\n",
    "    cal_2 = np.mean(y)\n",
    "    var_1= np.var(y, axis =0)\n",
    "    var_2= np.var(y, axis =1)\n",
    "    var_3 = np.var(y)\n",
    "    std_1 = np.std(y, axis=0)\n",
    "    std_2 = np.std(y, axis =1)\n",
    "    std_3 = np.std(y)\n",
    "    max_1 = np.max(y, axis =0)\n",
    "    max_2 = np.max(y, axis=1)\n",
    "    max_3 = np.max(y)\n",
    "    min_1 = np.min(y, axis =0)\n",
    "    min_2 = np.min(y, axis=1)\n",
    "    min_3 = np.min(y)\n",
    "    sum_1 = np.sum(y, axis =0)\n",
    "    sum_2 = np.sum(y, axis=1)\n",
    "    sum_3 = np.sum(y)\n",
    "    calculations['mean']= [cal.tolist(),cal_1.tolist(), cal_2]\n",
    "    calculations['variance']= [var_1.tolist(), var_2.tolist(), var_3]\n",
    "    calculations['standard deviation'] = [std_1.tolist(), std_2.tolist(), std_3]\n",
    "    calculations[\"maximum\"] = [max_1.tolist(), max_2.tolist(), max_3]\n",
    "    calculations['Minimum'] = [min_1.tolist(), min_2.tolist(), min_3]\n",
    "    calculations['Sum'] = [sum_1.tolist(), sum_2.tolist(), sum_3]\n",
    "    return calculations\n",
    "    print(calculations)\n",
    "    \n",
    "    \n",
    "            \n",
    "calculate([2,6,2, 8,4,0, 1, 5,7])\n",
    "  \n",
    "      \n",
    "\n",
    "  "
   ]
  },
  {
   "cell_type": "code",
   "execution_count": null,
   "id": "aada2da0-32d4-4d8a-848b-dcf833996f66",
   "metadata": {},
   "outputs": [],
   "source": []
  }
 ],
 "metadata": {
  "kernelspec": {
   "display_name": "Python 3 (ipykernel)",
   "language": "python",
   "name": "python3"
  },
  "language_info": {
   "codemirror_mode": {
    "name": "ipython",
    "version": 3
   },
   "file_extension": ".py",
   "mimetype": "text/x-python",
   "name": "python",
   "nbconvert_exporter": "python",
   "pygments_lexer": "ipython3",
   "version": "3.11.5"
  }
 },
 "nbformat": 4,
 "nbformat_minor": 5
}
